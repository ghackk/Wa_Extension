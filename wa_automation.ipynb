{
 "cells": [
  {
   "cell_type": "code",
   "execution_count": 3,
   "metadata": {},
   "outputs": [
    {
     "name": "stdout",
     "output_type": "stream",
     "text": [
      "Collecting seleniumNote: you may need to restart the kernel to use updated packages.\n",
      "  Using cached selenium-4.5.0-py3-none-any.whl (995 kB)\n",
      "Collecting trio-websocket~=0.9\n",
      "  Using cached trio_websocket-0.9.2-py3-none-any.whl (16 kB)\n",
      "Requirement already satisfied: urllib3[socks]~=1.26 in c:\\users\\karthik nair\\anaconda3\\lib\\site-packages (from selenium) (1.26.9)\n",
      "Requirement already satisfied: certifi>=2021.10.8 in c:\\users\\karthik nair\\anaconda3\\lib\\site-packages (from selenium) (2022.9.14)\n",
      "Collecting trio~=0.17\n",
      "  Using cached trio-0.22.0-py3-none-any.whl (384 kB)\n",
      "Requirement already satisfied: idna in c:\\users\\karthik nair\\anaconda3\\lib\\site-packages (from trio~=0.17->selenium) (3.3)\n",
      "Requirement already satisfied: sortedcontainers in c:\\users\\karthik nair\\anaconda3\\lib\\site-packages (from trio~=0.17->selenium) (2.4.0)\n",
      "Requirement already satisfied: sniffio in c:\\users\\karthik nair\\anaconda3\\lib\\site-packages (from trio~=0.17->selenium) (1.2.0)\n",
      "Collecting async-generator>=1.9\n",
      "  Using cached async_generator-1.10-py3-none-any.whl (18 kB)\n",
      "Requirement already satisfied: attrs>=19.2.0 in c:\\users\\karthik nair\\anaconda3\\lib\\site-packages (from trio~=0.17->selenium) (21.4.0)\n",
      "Collecting outcome\n",
      "  Using cached outcome-1.2.0-py2.py3-none-any.whl (9.7 kB)\n",
      "Collecting exceptiongroup>=1.0.0rc9\n",
      "  Using cached exceptiongroup-1.0.0-py3-none-any.whl (12 kB)\n",
      "Requirement already satisfied: cffi>=1.14 in c:\\users\\karthik nair\\anaconda3\\lib\\site-packages (from trio~=0.17->selenium) (1.15.0)\n",
      "Requirement already satisfied: pycparser in c:\\users\\karthik nair\\anaconda3\\lib\\site-packages (from cffi>=1.14->trio~=0.17->selenium) (2.21)\n",
      "Collecting wsproto>=0.14\n",
      "  Using cached wsproto-1.2.0-py3-none-any.whl (24 kB)\n",
      "Requirement already satisfied: PySocks!=1.5.7,<2.0,>=1.5.6 in c:\\users\\karthik nair\\anaconda3\\lib\\site-packages (from urllib3[socks]~=1.26->selenium) (1.7.1)\n",
      "Collecting h11<1,>=0.9.0\n",
      "  Using cached h11-0.14.0-py3-none-any.whl (58 kB)\n",
      "Installing collected packages: outcome, h11, exceptiongroup, async-generator, wsproto, trio, trio-websocket, selenium\n",
      "Successfully installed async-generator-1.10 exceptiongroup-1.0.0 h11-0.14.0 outcome-1.2.0 selenium-4.5.0 trio-0.22.0 trio-websocket-0.9.2 wsproto-1.2.0\n",
      "\n"
     ]
    }
   ],
   "source": [
    "pip install selenium"
   ]
  },
  {
   "cell_type": "code",
   "execution_count": 22,
   "metadata": {},
   "outputs": [],
   "source": [
    "from selenium import webdriver\n",
    "from selenium.webdriver.chrome.options import Options\n",
    "from selenium.webdriver.support import expected_conditions as ec\n",
    "from selenium.webdriver.support.ui import WebDriverWait\n",
    "from selenium.webdriver.common.keys import Keys\n",
    "from selenium.webdriver.common.by import By\n",
    "from openpyxl import Workbook #export to xlsx\n",
    "import time\n",
    "import pandas\n"
   ]
  },
  {
   "cell_type": "code",
   "execution_count": 23,
   "metadata": {},
   "outputs": [
    {
     "name": "stderr",
     "output_type": "stream",
     "text": [
      "C:\\Users\\KARTHIK NAIR\\AppData\\Local\\Temp\\ipykernel_19744\\3091960071.py:1: DeprecationWarning: executable_path has been deprecated, please pass in a Service object\n",
      "  driver= webdriver.Chrome(\"C:\\Program Files\\Google\\Chrome\\Application\\chromedriver.exe\")\n"
     ]
    }
   ],
   "source": [
    "driver= webdriver.Chrome(\"C:\\Program Files\\Google\\Chrome\\Application\\chromedriver.exe\")"
   ]
  },
  {
   "cell_type": "code",
   "execution_count": 24,
   "metadata": {},
   "outputs": [
    {
     "data": {
      "text/plain": [
       "<selenium.webdriver.remote.webelement.WebElement (session=\"2664c997329940965b3a899c3caec91d\", element=\"4aa90b7c-40ea-4b85-adb5-9d28bd636f54\")>"
      ]
     },
     "execution_count": 24,
     "metadata": {},
     "output_type": "execute_result"
    }
   ],
   "source": [
    "opt = Options()\n",
    "opt.add_argument('--headless')\n",
    "opt.add_experimental_option(\"debuggerAddress\",\"localhost:9515\")\n",
    "\n",
    "\n",
    "driver.get(\"https://web.whatsapp.com/\")\n",
    "#WebDriverWait(driver,1000)\n",
    "WebDriverWait(driver,100).until(ec.presence_of_element_located((By.XPATH,'//*[@id=\"side\"]/div[1]/div/div/button/div[2]/span')))"
   ]
  },
  {
   "cell_type": "code",
   "execution_count": 26,
   "metadata": {},
   "outputs": [],
   "source": [
    "explore = driver.find_element(By.XPATH,'//*[@id=\"side\"]/div[1]/div/div/div[2]/div/div[2]')\n",
    "explore.click()\n",
    "search_element=\"CST UNOFFICIAL\"\n",
    "explore.send_keys(search_element)\n",
    "#to search in side pane\n",
    "# searching the group\n"
   ]
  },
  {
   "cell_type": "code",
   "execution_count": 36,
   "metadata": {},
   "outputs": [],
   "source": [
    "open_profile = driver.find_element(By.XPATH,'//*[@dir=\"auto\" and @title=\"3rd Year CST Official\"]')\n",
    "open_profile.click()\n",
    "#open the group "
   ]
  },
  {
   "cell_type": "code",
   "execution_count": 37,
   "metadata": {},
   "outputs": [],
   "source": [
    "driver.maximize_window()"
   ]
  },
  {
   "cell_type": "code",
   "execution_count": 38,
   "metadata": {},
   "outputs": [],
   "source": [
    "driver.find_element(By.XPATH,'//*[@ data-testid=\"conversation-info-header-chat-title\" and @dir=\"auto\" and @title=\"3rd Year CST Official\"]').click()\n",
    "#clicking on the Ds Trial group info"
   ]
  },
  {
   "cell_type": "code",
   "execution_count": null,
   "metadata": {},
   "outputs": [],
   "source": [
    "# click on the title of the group\n",
    "# click on the arrow in front of name\n",
    "# click on remove after the pop down menu\n",
    "# click on remove on the box\n",
    "#git add -A #git add \"filename.extens\"\n",
    "#git commit -m \"comment\"\n",
    "#git push u"
   ]
  },
  {
   "cell_type": "code",
   "execution_count": 39,
   "metadata": {},
   "outputs": [],
   "source": [
    "driver.find_element(By.XPATH,'//*[@class=\"x2dsD _1lF7t bze30y65 a4ywakfo\" and contains(text(),\"participants\")]').click()\n",
    "#clicking on the participants list"
   ]
  },
  {
   "cell_type": "code",
   "execution_count": 40,
   "metadata": {},
   "outputs": [],
   "source": [
    "driver.find_element(By.XPATH,'//*[@dir=\"auto\" and contains(text(), \"Anmol\")]').click()\n",
    "#clicking on the contact to be removed"
   ]
  },
  {
   "cell_type": "code",
   "execution_count": 21,
   "metadata": {},
   "outputs": [],
   "source": [
    "driver.find_element(By.XPATH,'//*[contains(text(), \"Remove\")]').click()\n",
    "#clicking on the remvove button"
   ]
  },
  {
   "cell_type": "code",
   "execution_count": 18,
   "metadata": {},
   "outputs": [],
   "source": [
    "#input_box = driver.find_element(By.XPATH,'//*[@id=\"main\"]/footer/div[1]/div/span[2]/div/div[2]/div[1]')\n",
    "#for c in range (100):\n",
    "    #input_box.send_keys(c+ Keys.ENTER)"
   ]
  },
  {
   "cell_type": "code",
   "execution_count": 19,
   "metadata": {},
   "outputs": [
    {
     "ename": "SyntaxError",
     "evalue": "invalid syntax (1582788958.py, line 2)",
     "output_type": "error",
     "traceback": [
      "\u001b[1;36m  Cell \u001b[1;32mIn [19], line 2\u001b[1;36m\u001b[0m\n\u001b[1;33m    class_now=driver.find_element(By.XPATH,'//[@div/div]' ).text      // find the solution to get the current desired class\u001b[0m\n\u001b[1;37m                                                                              ^\u001b[0m\n\u001b[1;31mSyntaxError\u001b[0m\u001b[1;31m:\u001b[0m invalid syntax\n"
     ]
    }
   ],
   "source": [
    "x_arg = '//span[contains(@title, '+ '\"' +target + '\"'+ ')]'\n",
    "class_now=driver.find_element(By.XPATH,'//*[@dir=\"auto\" and @title=\"Acha\"]' ).text      // find the solution to get the current desired class\n",
    "print(class_now)"
   ]
  },
  {
   "cell_type": "code",
   "execution_count": null,
   "metadata": {},
   "outputs": [
    {
     "name": "stdout",
     "output_type": "stream",
     "text": [
      "RHA West Delhi\n",
      "RHA West Delhi Reserve\n",
      "Bombay Shaving Company\n",
      "Mummy airtel\n",
      "Photo\n",
      "Google DSC-MAIT Updates 2\n",
      "Chunmun Jio\n",
      "Anku sejal wedding group\n",
      "Photo\n",
      "Ayaan\n",
      "3rd Year CST Official\n",
      "CST Unofficial (Regular)\n",
      "Team Chaitanya 2022\n",
      "Shopsy\n",
      "+91 88288 61651\n",
      "Papa jio\n",
      "Photo\n",
      "D12\n",
      "My Family\n",
      "Photo\n",
      "RHA Rohini Vol 1\n",
      "Akanksha Ahuja\n"
     ]
    }
   ],
   "source": [
    "last_contacted=driver.find_elements(By.XPATH,'//span[@class=\"ggj6brxn gfz4du6o r7fjleex g0rxnol2 lhj4utae le5p0ye3 l7jjieqr i0jNr\" and @dir=\"auto\"]')\n",
    "for e in last_contacted:\n",
    "    print(e.text)\n",
    "\n",
    "# //div/div\n",
    "#//span[@dir=\"auto\"]        '//div[@class=\"lhggkp7q ln8gz9je rx9719la\"]'\n",
    "\n",
    "#<span dir=\"auto\" title=\"RHA West Delhi Reserve\" class=\"ggj6brxn gfz4du6o r7fjleex g0rxnol2 lhj4utae le5p0ye3 l7jjieqr i0jNr\">RHA West Delhi Reserve</span>\n",
    "#<span dir=\"auto\" title=\"Sahil Sadhwani\" class=\"ggj6brxn gfz4du6o r7fjleex g0rxnol2 lhj4utae le5p0ye3 l7jjieqr i0jNr\">Sahil Sadhwani</span>"
   ]
  },
  {
   "cell_type": "code",
   "execution_count": null,
   "metadata": {},
   "outputs": [],
   "source": [
    "recent_contacts=[]\n",
    "for i in range(len(last_contacted)):\n",
    "    temporary_data={'Serial': i ,\n",
    "    'Name ':last_contacted[i].text}#text\n",
    "    recent_contacts.append(temporary_data)                                                                                      "
   ]
  },
  {
   "cell_type": "code",
   "execution_count": null,
   "metadata": {
    "scrolled": true
   },
   "outputs": [
    {
     "data": {
      "text/html": [
       "<div>\n",
       "<style scoped>\n",
       "    .dataframe tbody tr th:only-of-type {\n",
       "        vertical-align: middle;\n",
       "    }\n",
       "\n",
       "    .dataframe tbody tr th {\n",
       "        vertical-align: top;\n",
       "    }\n",
       "\n",
       "    .dataframe thead th {\n",
       "        text-align: right;\n",
       "    }\n",
       "</style>\n",
       "<table border=\"1\" class=\"dataframe\">\n",
       "  <thead>\n",
       "    <tr style=\"text-align: right;\">\n",
       "      <th></th>\n",
       "      <th>Serial</th>\n",
       "      <th>Name</th>\n",
       "    </tr>\n",
       "  </thead>\n",
       "  <tbody>\n",
       "    <tr>\n",
       "      <th>0</th>\n",
       "      <td>0</td>\n",
       "      <td>RHA West Delhi</td>\n",
       "    </tr>\n",
       "    <tr>\n",
       "      <th>1</th>\n",
       "      <td>1</td>\n",
       "      <td>RHA West Delhi Reserve</td>\n",
       "    </tr>\n",
       "    <tr>\n",
       "      <th>2</th>\n",
       "      <td>2</td>\n",
       "      <td>Bombay Shaving Company</td>\n",
       "    </tr>\n",
       "    <tr>\n",
       "      <th>3</th>\n",
       "      <td>3</td>\n",
       "      <td>Mummy airtel</td>\n",
       "    </tr>\n",
       "    <tr>\n",
       "      <th>4</th>\n",
       "      <td>4</td>\n",
       "      <td>Photo</td>\n",
       "    </tr>\n",
       "    <tr>\n",
       "      <th>5</th>\n",
       "      <td>5</td>\n",
       "      <td>Google DSC-MAIT Updates 2</td>\n",
       "    </tr>\n",
       "    <tr>\n",
       "      <th>6</th>\n",
       "      <td>6</td>\n",
       "      <td>Chunmun Jio</td>\n",
       "    </tr>\n",
       "    <tr>\n",
       "      <th>7</th>\n",
       "      <td>7</td>\n",
       "      <td>Anku sejal wedding group</td>\n",
       "    </tr>\n",
       "    <tr>\n",
       "      <th>8</th>\n",
       "      <td>8</td>\n",
       "      <td>Photo</td>\n",
       "    </tr>\n",
       "    <tr>\n",
       "      <th>9</th>\n",
       "      <td>9</td>\n",
       "      <td>Ayaan</td>\n",
       "    </tr>\n",
       "    <tr>\n",
       "      <th>10</th>\n",
       "      <td>10</td>\n",
       "      <td>3rd Year CST Official</td>\n",
       "    </tr>\n",
       "    <tr>\n",
       "      <th>11</th>\n",
       "      <td>11</td>\n",
       "      <td>CST Unofficial (Regular)</td>\n",
       "    </tr>\n",
       "    <tr>\n",
       "      <th>12</th>\n",
       "      <td>12</td>\n",
       "      <td>Team Chaitanya 2022</td>\n",
       "    </tr>\n",
       "    <tr>\n",
       "      <th>13</th>\n",
       "      <td>13</td>\n",
       "      <td>Shopsy</td>\n",
       "    </tr>\n",
       "    <tr>\n",
       "      <th>14</th>\n",
       "      <td>14</td>\n",
       "      <td>+91 88288 61651</td>\n",
       "    </tr>\n",
       "    <tr>\n",
       "      <th>15</th>\n",
       "      <td>15</td>\n",
       "      <td>Papa jio</td>\n",
       "    </tr>\n",
       "    <tr>\n",
       "      <th>16</th>\n",
       "      <td>16</td>\n",
       "      <td>Photo</td>\n",
       "    </tr>\n",
       "    <tr>\n",
       "      <th>17</th>\n",
       "      <td>17</td>\n",
       "      <td>D12</td>\n",
       "    </tr>\n",
       "    <tr>\n",
       "      <th>18</th>\n",
       "      <td>18</td>\n",
       "      <td>My Family</td>\n",
       "    </tr>\n",
       "    <tr>\n",
       "      <th>19</th>\n",
       "      <td>19</td>\n",
       "      <td>Photo</td>\n",
       "    </tr>\n",
       "    <tr>\n",
       "      <th>20</th>\n",
       "      <td>20</td>\n",
       "      <td>RHA Rohini Vol 1</td>\n",
       "    </tr>\n",
       "    <tr>\n",
       "      <th>21</th>\n",
       "      <td>21</td>\n",
       "      <td>Akanksha Ahuja</td>\n",
       "    </tr>\n",
       "  </tbody>\n",
       "</table>\n",
       "</div>"
      ],
      "text/plain": [
       "    Serial                      Name \n",
       "0        0             RHA West Delhi\n",
       "1        1     RHA West Delhi Reserve\n",
       "2        2     Bombay Shaving Company\n",
       "3        3               Mummy airtel\n",
       "4        4                      Photo\n",
       "5        5  Google DSC-MAIT Updates 2\n",
       "6        6                Chunmun Jio\n",
       "7        7   Anku sejal wedding group\n",
       "8        8                      Photo\n",
       "9        9                      Ayaan\n",
       "10      10      3rd Year CST Official\n",
       "11      11   CST Unofficial (Regular)\n",
       "12      12        Team Chaitanya 2022\n",
       "13      13                     Shopsy\n",
       "14      14            +91 88288 61651\n",
       "15      15                   Papa jio\n",
       "16      16                      Photo\n",
       "17      17                        D12\n",
       "18      18                  My Family\n",
       "19      19                      Photo\n",
       "20      20           RHA Rohini Vol 1\n",
       "21      21             Akanksha Ahuja"
      ]
     },
     "execution_count": 9,
     "metadata": {},
     "output_type": "execute_result"
    }
   ],
   "source": [
    "wa_data=pandas.DataFrame(recent_contacts)\n",
    "wa_data"
   ]
  },
  {
   "cell_type": "markdown",
   "metadata": {},
   "source": []
  }
 ],
 "metadata": {
  "kernelspec": {
   "display_name": "Python 3 (ipykernel)",
   "language": "python",
   "name": "python3"
  },
  "language_info": {
   "codemirror_mode": {
    "name": "ipython",
    "version": 3
   },
   "file_extension": ".py",
   "mimetype": "text/x-python",
   "name": "python",
   "nbconvert_exporter": "python",
   "pygments_lexer": "ipython3",
   "version": "3.9.12"
  },
  "vscode": {
   "interpreter": {
    "hash": "a784a3f80c1230a391b6b6f38add9cc540ad5c7c80dcf34c6b4f6cc6bc963d6b"
   }
  }
 },
 "nbformat": 4,
 "nbformat_minor": 2
}
