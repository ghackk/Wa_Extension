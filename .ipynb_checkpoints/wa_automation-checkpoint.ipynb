{
 "cells": [
  {
   "cell_type": "code",
   "execution_count": 1,
   "metadata": {},
   "outputs": [
    {
     "ename": "ModuleNotFoundError",
     "evalue": "No module named 'selenium'",
     "output_type": "error",
     "traceback": [
      "\u001b[1;31m---------------------------------------------------------------------------\u001b[0m",
      "\u001b[1;31mModuleNotFoundError\u001b[0m                       Traceback (most recent call last)",
      "Input \u001b[1;32mIn [1]\u001b[0m, in \u001b[0;36m<cell line: 1>\u001b[1;34m()\u001b[0m\n\u001b[1;32m----> 1\u001b[0m \u001b[38;5;28;01mfrom\u001b[39;00m \u001b[38;5;21;01mselenium\u001b[39;00m \u001b[38;5;28;01mimport\u001b[39;00m webdriver\n\u001b[0;32m      2\u001b[0m \u001b[38;5;28;01mfrom\u001b[39;00m \u001b[38;5;21;01mselenium\u001b[39;00m\u001b[38;5;21;01m.\u001b[39;00m\u001b[38;5;21;01mwebdriver\u001b[39;00m\u001b[38;5;21;01m.\u001b[39;00m\u001b[38;5;21;01mchrome\u001b[39;00m\u001b[38;5;21;01m.\u001b[39;00m\u001b[38;5;21;01moptions\u001b[39;00m \u001b[38;5;28;01mimport\u001b[39;00m Options\n\u001b[0;32m      3\u001b[0m \u001b[38;5;28;01mfrom\u001b[39;00m \u001b[38;5;21;01mselenium\u001b[39;00m\u001b[38;5;21;01m.\u001b[39;00m\u001b[38;5;21;01mwebdriver\u001b[39;00m\u001b[38;5;21;01m.\u001b[39;00m\u001b[38;5;21;01msupport\u001b[39;00m \u001b[38;5;28;01mimport\u001b[39;00m expected_conditions \u001b[38;5;28;01mas\u001b[39;00m ec\n",
      "\u001b[1;31mModuleNotFoundError\u001b[0m: No module named 'selenium'"
     ]
    }
   ],
   "source": [
    "from selenium import webdriver\n",
    "from selenium.webdriver.chrome.options import Options\n",
    "from selenium.webdriver.support import expected_conditions as ec\n",
    "from selenium.webdriver.support.ui import WebDriverWait\n",
    "from selenium.webdriver.common.keys import Keys\n",
    "from selenium.webdriver.common.by import By\n",
    "from openpyxl import Workbook #export to xlsx\n",
    "import time\n",
    "import pandas\n"
   ]
  },
  {
   "cell_type": "code",
   "execution_count": 7,
   "metadata": {},
   "outputs": [
    {
     "name": "stderr",
     "output_type": "stream",
     "text": [
      "C:\\Users\\gyane\\AppData\\Local\\Temp\\ipykernel_4680\\2431080361.py:4: DeprecationWarning: executable_path has been deprecated, please pass in a Service object\n",
      "  driver = webdriver.Chrome(executable_path=\"C:\\\\Users\\\\gyane\\\\OneDrive\\\\Desktop\\\\5\\\\data_science_lab\\\\web automation\\\\chromedriver.exe\",chrome_options=opt)\n",
      "C:\\Users\\gyane\\AppData\\Local\\Temp\\ipykernel_4680\\2431080361.py:4: DeprecationWarning: use options instead of chrome_options\n",
      "  driver = webdriver.Chrome(executable_path=\"C:\\\\Users\\\\gyane\\\\OneDrive\\\\Desktop\\\\5\\\\data_science_lab\\\\web automation\\\\chromedriver.exe\",chrome_options=opt)\n"
     ]
    },
    {
     "data": {
      "text/plain": [
       "<selenium.webdriver.remote.webelement.WebElement (session=\"e93e4e9bf143322ce8aec9fc8ada4fb9\", element=\"2619684f-a6f6-4e78-b82b-41927f904a3d\")>"
      ]
     },
     "execution_count": 7,
     "metadata": {},
     "output_type": "execute_result"
    }
   ],
   "source": [
    "opt = Options()\n",
    "opt.add_argument('--headless')\n",
    "opt.add_experimental_option(\"debuggerAddress\",\"localhost:6520\")\n",
    "driver = webdriver.Chrome(executable_path=\"C:\\\\Users\\\\gyane\\\\OneDrive\\\\Desktop\\\\5\\\\data_science_lab\\\\web automation\\\\chromedriver.exe\",chrome_options=opt)\n",
    "#driver.maximize_window()\n",
    "driver.get(\"https://web.whatsapp.com/\")\n",
    "#WebDriverWait(driver,1000)\n",
    "WebDriverWait(driver,100).until(ec.presence_of_element_located((By.XPATH,'//*[@id=\"side\"]/div[1]/div/div/button/div[2]/span')))"
   ]
  },
  {
   "cell_type": "code",
   "execution_count": 13,
   "metadata": {},
   "outputs": [],
   "source": [
    "explore = driver.find_element(By.XPATH,'//*[@id=\"side\"]/div[1]/div/div/div[2]/div/div[2]')\n",
    "explore.click()\n",
    "search_element=\"Ds trial\"\n",
    "explore.send_keys(search_element)\n",
    "#to search in side pane\n",
    "# searching the group\n"
   ]
  },
  {
   "cell_type": "code",
   "execution_count": 14,
   "metadata": {},
   "outputs": [],
   "source": [
    "open_profile = driver.find_element(By.XPATH,'//*[@dir=\"auto\" and @title=\"Ds trial\"]')\n",
    "open_profile.click()\n",
    "#open the group "
   ]
  },
  {
   "cell_type": "code",
   "execution_count": null,
   "metadata": {},
   "outputs": [],
   "source": []
  },
  {
   "cell_type": "code",
   "execution_count": 18,
   "metadata": {},
   "outputs": [],
   "source": [
    "#input_box = driver.find_element(By.XPATH,'//*[@id=\"main\"]/footer/div[1]/div/span[2]/div/div[2]/div[1]')\n",
    "#for c in range (100):\n",
    "    #input_box.send_keys(c+ Keys.ENTER)"
   ]
  },
  {
   "cell_type": "code",
   "execution_count": 19,
   "metadata": {},
   "outputs": [
    {
     "ename": "SyntaxError",
     "evalue": "invalid syntax (1582788958.py, line 2)",
     "output_type": "error",
     "traceback": [
      "\u001b[1;36m  Cell \u001b[1;32mIn [19], line 2\u001b[1;36m\u001b[0m\n\u001b[1;33m    class_now=driver.find_element(By.XPATH,'//[@div/div]' ).text      // find the solution to get the current desired class\u001b[0m\n\u001b[1;37m                                                                              ^\u001b[0m\n\u001b[1;31mSyntaxError\u001b[0m\u001b[1;31m:\u001b[0m invalid syntax\n"
     ]
    }
   ],
   "source": [
    "x_arg = '//span[contains(@title, '+ '\"' +target + '\"'+ ')]'\n",
    "class_now=driver.find_element(By.XPATH,'//[@div/div]' ).text      // find the solution to get the current desired class\n",
    "print(class_now)"
   ]
  },
  {
   "cell_type": "code",
   "execution_count": null,
   "metadata": {},
   "outputs": [
    {
     "name": "stdout",
     "output_type": "stream",
     "text": [
      "RHA West Delhi\n",
      "RHA West Delhi Reserve\n",
      "Bombay Shaving Company\n",
      "Mummy airtel\n",
      "Photo\n",
      "Google DSC-MAIT Updates 2\n",
      "Chunmun Jio\n",
      "Anku sejal wedding group\n",
      "Photo\n",
      "Ayaan\n",
      "3rd Year CST Official\n",
      "CST Unofficial (Regular)\n",
      "Team Chaitanya 2022\n",
      "Shopsy\n",
      "+91 88288 61651\n",
      "Papa jio\n",
      "Photo\n",
      "D12\n",
      "My Family\n",
      "Photo\n",
      "RHA Rohini Vol 1\n",
      "Akanksha Ahuja\n"
     ]
    }
   ],
   "source": [
    "last_contacted=driver.find_elements(By.XPATH,'//span[@class=\"ggj6brxn gfz4du6o r7fjleex g0rxnol2 lhj4utae le5p0ye3 l7jjieqr i0jNr\" and @dir=\"auto\"]')\n",
    "for e in last_contacted:\n",
    "    print(e.text)\n",
    "\n",
    "# //div/div\n",
    "#//span[@dir=\"auto\"]        '//div[@class=\"lhggkp7q ln8gz9je rx9719la\"]'\n",
    "\n",
    "#<span dir=\"auto\" title=\"RHA West Delhi Reserve\" class=\"ggj6brxn gfz4du6o r7fjleex g0rxnol2 lhj4utae le5p0ye3 l7jjieqr i0jNr\">RHA West Delhi Reserve</span>\n",
    "#<span dir=\"auto\" title=\"Sahil Sadhwani\" class=\"ggj6brxn gfz4du6o r7fjleex g0rxnol2 lhj4utae le5p0ye3 l7jjieqr i0jNr\">Sahil Sadhwani</span>"
   ]
  },
  {
   "cell_type": "code",
   "execution_count": null,
   "metadata": {},
   "outputs": [],
   "source": [
    "recent_contacts=[]\n",
    "for i in range(len(last_contacted)):\n",
    "    temporary_data={'Serial': i ,\n",
    "    'Name ':last_contacted[i].text}#text\n",
    "    recent_contacts.append(temporary_data)                                                                                      "
   ]
  },
  {
   "cell_type": "code",
   "execution_count": null,
   "metadata": {},
   "outputs": [
    {
     "data": {
      "text/html": [
       "<div>\n",
       "<style scoped>\n",
       "    .dataframe tbody tr th:only-of-type {\n",
       "        vertical-align: middle;\n",
       "    }\n",
       "\n",
       "    .dataframe tbody tr th {\n",
       "        vertical-align: top;\n",
       "    }\n",
       "\n",
       "    .dataframe thead th {\n",
       "        text-align: right;\n",
       "    }\n",
       "</style>\n",
       "<table border=\"1\" class=\"dataframe\">\n",
       "  <thead>\n",
       "    <tr style=\"text-align: right;\">\n",
       "      <th></th>\n",
       "      <th>Serial</th>\n",
       "      <th>Name</th>\n",
       "    </tr>\n",
       "  </thead>\n",
       "  <tbody>\n",
       "    <tr>\n",
       "      <th>0</th>\n",
       "      <td>0</td>\n",
       "      <td>RHA West Delhi</td>\n",
       "    </tr>\n",
       "    <tr>\n",
       "      <th>1</th>\n",
       "      <td>1</td>\n",
       "      <td>RHA West Delhi Reserve</td>\n",
       "    </tr>\n",
       "    <tr>\n",
       "      <th>2</th>\n",
       "      <td>2</td>\n",
       "      <td>Bombay Shaving Company</td>\n",
       "    </tr>\n",
       "    <tr>\n",
       "      <th>3</th>\n",
       "      <td>3</td>\n",
       "      <td>Mummy airtel</td>\n",
       "    </tr>\n",
       "    <tr>\n",
       "      <th>4</th>\n",
       "      <td>4</td>\n",
       "      <td>Photo</td>\n",
       "    </tr>\n",
       "    <tr>\n",
       "      <th>5</th>\n",
       "      <td>5</td>\n",
       "      <td>Google DSC-MAIT Updates 2</td>\n",
       "    </tr>\n",
       "    <tr>\n",
       "      <th>6</th>\n",
       "      <td>6</td>\n",
       "      <td>Chunmun Jio</td>\n",
       "    </tr>\n",
       "    <tr>\n",
       "      <th>7</th>\n",
       "      <td>7</td>\n",
       "      <td>Anku sejal wedding group</td>\n",
       "    </tr>\n",
       "    <tr>\n",
       "      <th>8</th>\n",
       "      <td>8</td>\n",
       "      <td>Photo</td>\n",
       "    </tr>\n",
       "    <tr>\n",
       "      <th>9</th>\n",
       "      <td>9</td>\n",
       "      <td>Ayaan</td>\n",
       "    </tr>\n",
       "    <tr>\n",
       "      <th>10</th>\n",
       "      <td>10</td>\n",
       "      <td>3rd Year CST Official</td>\n",
       "    </tr>\n",
       "    <tr>\n",
       "      <th>11</th>\n",
       "      <td>11</td>\n",
       "      <td>CST Unofficial (Regular)</td>\n",
       "    </tr>\n",
       "    <tr>\n",
       "      <th>12</th>\n",
       "      <td>12</td>\n",
       "      <td>Team Chaitanya 2022</td>\n",
       "    </tr>\n",
       "    <tr>\n",
       "      <th>13</th>\n",
       "      <td>13</td>\n",
       "      <td>Shopsy</td>\n",
       "    </tr>\n",
       "    <tr>\n",
       "      <th>14</th>\n",
       "      <td>14</td>\n",
       "      <td>+91 88288 61651</td>\n",
       "    </tr>\n",
       "    <tr>\n",
       "      <th>15</th>\n",
       "      <td>15</td>\n",
       "      <td>Papa jio</td>\n",
       "    </tr>\n",
       "    <tr>\n",
       "      <th>16</th>\n",
       "      <td>16</td>\n",
       "      <td>Photo</td>\n",
       "    </tr>\n",
       "    <tr>\n",
       "      <th>17</th>\n",
       "      <td>17</td>\n",
       "      <td>D12</td>\n",
       "    </tr>\n",
       "    <tr>\n",
       "      <th>18</th>\n",
       "      <td>18</td>\n",
       "      <td>My Family</td>\n",
       "    </tr>\n",
       "    <tr>\n",
       "      <th>19</th>\n",
       "      <td>19</td>\n",
       "      <td>Photo</td>\n",
       "    </tr>\n",
       "    <tr>\n",
       "      <th>20</th>\n",
       "      <td>20</td>\n",
       "      <td>RHA Rohini Vol 1</td>\n",
       "    </tr>\n",
       "    <tr>\n",
       "      <th>21</th>\n",
       "      <td>21</td>\n",
       "      <td>Akanksha Ahuja</td>\n",
       "    </tr>\n",
       "  </tbody>\n",
       "</table>\n",
       "</div>"
      ],
      "text/plain": [
       "    Serial                      Name \n",
       "0        0             RHA West Delhi\n",
       "1        1     RHA West Delhi Reserve\n",
       "2        2     Bombay Shaving Company\n",
       "3        3               Mummy airtel\n",
       "4        4                      Photo\n",
       "5        5  Google DSC-MAIT Updates 2\n",
       "6        6                Chunmun Jio\n",
       "7        7   Anku sejal wedding group\n",
       "8        8                      Photo\n",
       "9        9                      Ayaan\n",
       "10      10      3rd Year CST Official\n",
       "11      11   CST Unofficial (Regular)\n",
       "12      12        Team Chaitanya 2022\n",
       "13      13                     Shopsy\n",
       "14      14            +91 88288 61651\n",
       "15      15                   Papa jio\n",
       "16      16                      Photo\n",
       "17      17                        D12\n",
       "18      18                  My Family\n",
       "19      19                      Photo\n",
       "20      20           RHA Rohini Vol 1\n",
       "21      21             Akanksha Ahuja"
      ]
     },
     "execution_count": 9,
     "metadata": {},
     "output_type": "execute_result"
    }
   ],
   "source": [
    "wa_data=pandas.DataFrame(recent_contacts)\n",
    "wa_data"
   ]
  },
  {
   "cell_type": "code",
   "execution_count": null,
   "metadata": {},
   "outputs": [],
   "source": [
    "wa_data.to_excel('Wa_last_contacted.xlsx',index=False)"
   ]
  },
  {
   "cell_type": "code",
   "execution_count": null,
   "metadata": {},
   "outputs": [
    {
     "data": {
      "text/plain": [
       "<AxesSubplot: >"
      ]
     },
     "execution_count": 11,
     "metadata": {},
     "output_type": "execute_result"
    },
    {
     "data": {
      "image/png": "[encoded data removed]",
      "text/plain": [
       "<Figure size 640x480 with 1 Axes>"
      ]
     },
     "metadata": {},
     "output_type": "display_data"
    }
   ],
   "source": [
    "defi =pandas.read_excel('Wa_last_contacted.xlsx')\n",
    "defi.plot()"
   ]
  },
  {
   "cell_type": "markdown",
   "metadata": {},
   "source": []
  }
 ],
 "metadata": {
  "kernelspec": {
   "display_name": "Python 3 (ipykernel)",
   "language": "python",
   "name": "python3"
  },
  "language_info": {
   "codemirror_mode": {
    "name": "ipython",
    "version": 3
   },
   "file_extension": ".py",
   "mimetype": "text/x-python",
   "name": "python",
   "nbconvert_exporter": "python",
   "pygments_lexer": "ipython3",
   "version": "3.9.12"
  },
  "vscode": {
   "interpreter": {
    "hash": "a784a3f80c1230a391b6b6f38add9cc540ad5c7c80dcf34c6b4f6cc6bc963d6b"
   }
  }
 },
 "nbformat": 4,
 "nbformat_minor": 2
}
